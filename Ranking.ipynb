{
 "cells": [
  {
   "cell_type": "code",
   "execution_count": 1,
   "metadata": {},
   "outputs": [],
   "source": [
    "import pandas as pd\n",
    "import numpy as np\n",
    "import matplotlib.pyplot as plt"
   ]
  },
  {
   "cell_type": "code",
   "execution_count": 2,
   "metadata": {},
   "outputs": [],
   "source": [
    "pd.set_option('display.max_columns', 100)"
   ]
  },
  {
   "cell_type": "code",
   "execution_count": 3,
   "metadata": {},
   "outputs": [],
   "source": [
    "data = pd.read_csv(\"Clientes_limpio.csv\")"
   ]
  },
  {
   "cell_type": "code",
   "execution_count": 4,
   "metadata": {},
   "outputs": [],
   "source": [
    "def createDummies(data,var_name):\n",
    "    dummy = pd.get_dummies(data[var_name], prefix=var_name)\n",
    "    data = data.drop(var_name, axis = 1)\n",
    "    data = pd.concat([data, dummy ], axis = 1)\n",
    "    return data"
   ]
  },
  {
   "cell_type": "code",
   "execution_count": 5,
   "metadata": {},
   "outputs": [],
   "source": [
    "data = pd.concat([data, data[\"Escuela_Nuevos Horizontes\"]], axis = 1, sort=False)"
   ]
  },
  {
   "cell_type": "code",
   "execution_count": 6,
   "metadata": {},
   "outputs": [],
   "source": [
    "data = createDummies(data, \"Semanas\")"
   ]
  },
  {
   "cell_type": "code",
   "execution_count": 7,
   "metadata": {},
   "outputs": [
    {
     "data": {
      "text/plain": [
       "(146, 26)"
      ]
     },
     "execution_count": 7,
     "metadata": {},
     "output_type": "execute_result"
    }
   ],
   "source": [
    "data.shape"
   ]
  },
  {
   "cell_type": "code",
   "execution_count": 8,
   "metadata": {},
   "outputs": [
    {
     "data": {
      "text/html": [
       "<div>\n",
       "<style scoped>\n",
       "    .dataframe tbody tr th:only-of-type {\n",
       "        vertical-align: middle;\n",
       "    }\n",
       "\n",
       "    .dataframe tbody tr th {\n",
       "        vertical-align: top;\n",
       "    }\n",
       "\n",
       "    .dataframe thead th {\n",
       "        text-align: right;\n",
       "    }\n",
       "</style>\n",
       "<table border=\"1\" class=\"dataframe\">\n",
       "  <thead>\n",
       "    <tr style=\"text-align: right;\">\n",
       "      <th></th>\n",
       "      <th>Edad</th>\n",
       "      <th>Grupo</th>\n",
       "      <th>Hermanos</th>\n",
       "      <th>Compra</th>\n",
       "      <th>Genero_Alumno_Femenino</th>\n",
       "      <th>Genero_Alumno_Masculino</th>\n",
       "      <th>Paquete_Alimento</th>\n",
       "      <th>Paquete_Desconocido</th>\n",
       "      <th>Paquete_Normal</th>\n",
       "      <th>Genero_Tutor_Desconocido</th>\n",
       "      <th>Genero_Tutor_Femenino</th>\n",
       "      <th>Genero_Tutor_Masculino</th>\n",
       "      <th>Municipio_Aguascalientes</th>\n",
       "      <th>Municipio_Desconocido</th>\n",
       "      <th>Municipio_Jesus María</th>\n",
       "      <th>Municipio_Morelia</th>\n",
       "      <th>Municipio_San_Pedro_Garza_García</th>\n",
       "      <th>Municipio_jesus María</th>\n",
       "      <th>Escuela_Desconocido</th>\n",
       "      <th>Escuela_Entorno</th>\n",
       "      <th>Escuela_Nuevos Horizontes</th>\n",
       "      <th>Escuela_Nuevos Horizontes</th>\n",
       "      <th>Semanas_1.0</th>\n",
       "      <th>Semanas_2.0</th>\n",
       "      <th>Semanas_2.5138888888888893</th>\n",
       "      <th>Semanas_3.0</th>\n",
       "    </tr>\n",
       "  </thead>\n",
       "  <tbody>\n",
       "    <tr>\n",
       "      <th>0</th>\n",
       "      <td>4.000000</td>\n",
       "      <td>1.000000</td>\n",
       "      <td>0</td>\n",
       "      <td>Si</td>\n",
       "      <td>0</td>\n",
       "      <td>1</td>\n",
       "      <td>0</td>\n",
       "      <td>0</td>\n",
       "      <td>1</td>\n",
       "      <td>0</td>\n",
       "      <td>1</td>\n",
       "      <td>0</td>\n",
       "      <td>0</td>\n",
       "      <td>1</td>\n",
       "      <td>0</td>\n",
       "      <td>0</td>\n",
       "      <td>0</td>\n",
       "      <td>0</td>\n",
       "      <td>1</td>\n",
       "      <td>0</td>\n",
       "      <td>0</td>\n",
       "      <td>0</td>\n",
       "      <td>0</td>\n",
       "      <td>0</td>\n",
       "      <td>0</td>\n",
       "      <td>1</td>\n",
       "    </tr>\n",
       "    <tr>\n",
       "      <th>1</th>\n",
       "      <td>9.690722</td>\n",
       "      <td>1.865979</td>\n",
       "      <td>0</td>\n",
       "      <td>No</td>\n",
       "      <td>0</td>\n",
       "      <td>1</td>\n",
       "      <td>0</td>\n",
       "      <td>0</td>\n",
       "      <td>1</td>\n",
       "      <td>1</td>\n",
       "      <td>0</td>\n",
       "      <td>0</td>\n",
       "      <td>0</td>\n",
       "      <td>1</td>\n",
       "      <td>0</td>\n",
       "      <td>0</td>\n",
       "      <td>0</td>\n",
       "      <td>0</td>\n",
       "      <td>1</td>\n",
       "      <td>0</td>\n",
       "      <td>0</td>\n",
       "      <td>0</td>\n",
       "      <td>0</td>\n",
       "      <td>0</td>\n",
       "      <td>0</td>\n",
       "      <td>1</td>\n",
       "    </tr>\n",
       "    <tr>\n",
       "      <th>2</th>\n",
       "      <td>12.000000</td>\n",
       "      <td>3.000000</td>\n",
       "      <td>1</td>\n",
       "      <td>Si</td>\n",
       "      <td>0</td>\n",
       "      <td>1</td>\n",
       "      <td>1</td>\n",
       "      <td>0</td>\n",
       "      <td>0</td>\n",
       "      <td>0</td>\n",
       "      <td>1</td>\n",
       "      <td>0</td>\n",
       "      <td>0</td>\n",
       "      <td>1</td>\n",
       "      <td>0</td>\n",
       "      <td>0</td>\n",
       "      <td>0</td>\n",
       "      <td>0</td>\n",
       "      <td>1</td>\n",
       "      <td>0</td>\n",
       "      <td>0</td>\n",
       "      <td>0</td>\n",
       "      <td>0</td>\n",
       "      <td>0</td>\n",
       "      <td>0</td>\n",
       "      <td>1</td>\n",
       "    </tr>\n",
       "    <tr>\n",
       "      <th>3</th>\n",
       "      <td>8.000000</td>\n",
       "      <td>1.000000</td>\n",
       "      <td>0</td>\n",
       "      <td>Si</td>\n",
       "      <td>0</td>\n",
       "      <td>1</td>\n",
       "      <td>0</td>\n",
       "      <td>0</td>\n",
       "      <td>1</td>\n",
       "      <td>0</td>\n",
       "      <td>1</td>\n",
       "      <td>0</td>\n",
       "      <td>0</td>\n",
       "      <td>1</td>\n",
       "      <td>0</td>\n",
       "      <td>0</td>\n",
       "      <td>0</td>\n",
       "      <td>0</td>\n",
       "      <td>1</td>\n",
       "      <td>0</td>\n",
       "      <td>0</td>\n",
       "      <td>0</td>\n",
       "      <td>0</td>\n",
       "      <td>0</td>\n",
       "      <td>0</td>\n",
       "      <td>1</td>\n",
       "    </tr>\n",
       "    <tr>\n",
       "      <th>4</th>\n",
       "      <td>9.690722</td>\n",
       "      <td>1.865979</td>\n",
       "      <td>0</td>\n",
       "      <td>No</td>\n",
       "      <td>1</td>\n",
       "      <td>0</td>\n",
       "      <td>0</td>\n",
       "      <td>0</td>\n",
       "      <td>1</td>\n",
       "      <td>1</td>\n",
       "      <td>0</td>\n",
       "      <td>0</td>\n",
       "      <td>0</td>\n",
       "      <td>1</td>\n",
       "      <td>0</td>\n",
       "      <td>0</td>\n",
       "      <td>0</td>\n",
       "      <td>0</td>\n",
       "      <td>1</td>\n",
       "      <td>0</td>\n",
       "      <td>0</td>\n",
       "      <td>0</td>\n",
       "      <td>0</td>\n",
       "      <td>0</td>\n",
       "      <td>0</td>\n",
       "      <td>1</td>\n",
       "    </tr>\n",
       "  </tbody>\n",
       "</table>\n",
       "</div>"
      ],
      "text/plain": [
       "        Edad     Grupo  Hermanos Compra  Genero_Alumno_Femenino  \\\n",
       "0   4.000000  1.000000         0     Si                       0   \n",
       "1   9.690722  1.865979         0     No                       0   \n",
       "2  12.000000  3.000000         1     Si                       0   \n",
       "3   8.000000  1.000000         0     Si                       0   \n",
       "4   9.690722  1.865979         0     No                       1   \n",
       "\n",
       "   Genero_Alumno_Masculino  Paquete_Alimento  Paquete_Desconocido  \\\n",
       "0                        1                 0                    0   \n",
       "1                        1                 0                    0   \n",
       "2                        1                 1                    0   \n",
       "3                        1                 0                    0   \n",
       "4                        0                 0                    0   \n",
       "\n",
       "   Paquete_Normal  Genero_Tutor_Desconocido  Genero_Tutor_Femenino  \\\n",
       "0               1                         0                      1   \n",
       "1               1                         1                      0   \n",
       "2               0                         0                      1   \n",
       "3               1                         0                      1   \n",
       "4               1                         1                      0   \n",
       "\n",
       "   Genero_Tutor_Masculino  Municipio_Aguascalientes  Municipio_Desconocido  \\\n",
       "0                       0                         0                      1   \n",
       "1                       0                         0                      1   \n",
       "2                       0                         0                      1   \n",
       "3                       0                         0                      1   \n",
       "4                       0                         0                      1   \n",
       "\n",
       "   Municipio_Jesus María  Municipio_Morelia  Municipio_San_Pedro_Garza_García  \\\n",
       "0                      0                  0                                 0   \n",
       "1                      0                  0                                 0   \n",
       "2                      0                  0                                 0   \n",
       "3                      0                  0                                 0   \n",
       "4                      0                  0                                 0   \n",
       "\n",
       "   Municipio_jesus María  Escuela_Desconocido  Escuela_Entorno  \\\n",
       "0                      0                    1                0   \n",
       "1                      0                    1                0   \n",
       "2                      0                    1                0   \n",
       "3                      0                    1                0   \n",
       "4                      0                    1                0   \n",
       "\n",
       "   Escuela_Nuevos Horizontes  Escuela_Nuevos Horizontes  Semanas_1.0  \\\n",
       "0                          0                          0            0   \n",
       "1                          0                          0            0   \n",
       "2                          0                          0            0   \n",
       "3                          0                          0            0   \n",
       "4                          0                          0            0   \n",
       "\n",
       "   Semanas_2.0  Semanas_2.5138888888888893  Semanas_3.0  \n",
       "0            0                           0            1  \n",
       "1            0                           0            1  \n",
       "2            0                           0            1  \n",
       "3            0                           0            1  \n",
       "4            0                           0            1  "
      ]
     },
     "execution_count": 8,
     "metadata": {},
     "output_type": "execute_result"
    }
   ],
   "source": [
    "data.head()"
   ]
  },
  {
   "cell_type": "code",
   "execution_count": 9,
   "metadata": {},
   "outputs": [],
   "source": [
    "data[\"Compra\"] = (data[\"Compra\"]==\"Si\").astype(int) #Values will be binary"
   ]
  },
  {
   "cell_type": "code",
   "execution_count": 10,
   "metadata": {},
   "outputs": [
    {
     "data": {
      "text/plain": [
       "array([1, 0])"
      ]
     },
     "execution_count": 10,
     "metadata": {},
     "output_type": "execute_result"
    }
   ],
   "source": [
    "data[\"Compra\"].unique()"
   ]
  },
  {
   "cell_type": "code",
   "execution_count": 11,
   "metadata": {},
   "outputs": [
    {
     "data": {
      "text/plain": [
       "1    108\n",
       "0     38\n",
       "Name: Compra, dtype: int64"
      ]
     },
     "execution_count": 11,
     "metadata": {},
     "output_type": "execute_result"
    }
   ],
   "source": [
    "data[\"Compra\"].value_counts()"
   ]
  },
  {
   "cell_type": "code",
   "execution_count": 12,
   "metadata": {},
   "outputs": [
    {
     "data": {
      "text/html": [
       "<div>\n",
       "<style scoped>\n",
       "    .dataframe tbody tr th:only-of-type {\n",
       "        vertical-align: middle;\n",
       "    }\n",
       "\n",
       "    .dataframe tbody tr th {\n",
       "        vertical-align: top;\n",
       "    }\n",
       "\n",
       "    .dataframe thead th {\n",
       "        text-align: right;\n",
       "    }\n",
       "</style>\n",
       "<table border=\"1\" class=\"dataframe\">\n",
       "  <thead>\n",
       "    <tr style=\"text-align: right;\">\n",
       "      <th></th>\n",
       "      <th>Edad</th>\n",
       "      <th>Grupo</th>\n",
       "      <th>Hermanos</th>\n",
       "      <th>Genero_Alumno_Femenino</th>\n",
       "      <th>Genero_Alumno_Masculino</th>\n",
       "      <th>Paquete_Alimento</th>\n",
       "      <th>Paquete_Desconocido</th>\n",
       "      <th>Paquete_Normal</th>\n",
       "      <th>Genero_Tutor_Desconocido</th>\n",
       "      <th>Genero_Tutor_Femenino</th>\n",
       "      <th>Genero_Tutor_Masculino</th>\n",
       "      <th>Municipio_Aguascalientes</th>\n",
       "      <th>Municipio_Desconocido</th>\n",
       "      <th>Municipio_Jesus María</th>\n",
       "      <th>Municipio_Morelia</th>\n",
       "      <th>Municipio_San_Pedro_Garza_García</th>\n",
       "      <th>Municipio_jesus María</th>\n",
       "      <th>Escuela_Desconocido</th>\n",
       "      <th>Escuela_Entorno</th>\n",
       "      <th>Escuela_Nuevos Horizontes</th>\n",
       "      <th>Escuela_Nuevos Horizontes</th>\n",
       "      <th>Semanas_1.0</th>\n",
       "      <th>Semanas_2.0</th>\n",
       "      <th>Semanas_2.5138888888888893</th>\n",
       "      <th>Semanas_3.0</th>\n",
       "    </tr>\n",
       "    <tr>\n",
       "      <th>Compra</th>\n",
       "      <th></th>\n",
       "      <th></th>\n",
       "      <th></th>\n",
       "      <th></th>\n",
       "      <th></th>\n",
       "      <th></th>\n",
       "      <th></th>\n",
       "      <th></th>\n",
       "      <th></th>\n",
       "      <th></th>\n",
       "      <th></th>\n",
       "      <th></th>\n",
       "      <th></th>\n",
       "      <th></th>\n",
       "      <th></th>\n",
       "      <th></th>\n",
       "      <th></th>\n",
       "      <th></th>\n",
       "      <th></th>\n",
       "      <th></th>\n",
       "      <th></th>\n",
       "      <th></th>\n",
       "      <th></th>\n",
       "      <th></th>\n",
       "      <th></th>\n",
       "    </tr>\n",
       "  </thead>\n",
       "  <tbody>\n",
       "    <tr>\n",
       "      <th>0</th>\n",
       "      <td>9.82854</td>\n",
       "      <td>1.906403</td>\n",
       "      <td>0.552632</td>\n",
       "      <td>0.473684</td>\n",
       "      <td>0.526316</td>\n",
       "      <td>0.342105</td>\n",
       "      <td>0.026316</td>\n",
       "      <td>0.631579</td>\n",
       "      <td>0.815789</td>\n",
       "      <td>0.131579</td>\n",
       "      <td>0.052632</td>\n",
       "      <td>0.052632</td>\n",
       "      <td>0.921053</td>\n",
       "      <td>0.026316</td>\n",
       "      <td>0.000000</td>\n",
       "      <td>0.000000</td>\n",
       "      <td>0.000000</td>\n",
       "      <td>1.000000</td>\n",
       "      <td>0.000000</td>\n",
       "      <td>0.000000</td>\n",
       "      <td>0.000000</td>\n",
       "      <td>0.342105</td>\n",
       "      <td>0.105263</td>\n",
       "      <td>0.026316</td>\n",
       "      <td>0.526316</td>\n",
       "    </tr>\n",
       "    <tr>\n",
       "      <th>1</th>\n",
       "      <td>9.64223</td>\n",
       "      <td>1.851756</td>\n",
       "      <td>0.685185</td>\n",
       "      <td>0.287037</td>\n",
       "      <td>0.712963</td>\n",
       "      <td>0.407407</td>\n",
       "      <td>0.009259</td>\n",
       "      <td>0.583333</td>\n",
       "      <td>0.138889</td>\n",
       "      <td>0.592593</td>\n",
       "      <td>0.268519</td>\n",
       "      <td>0.138889</td>\n",
       "      <td>0.824074</td>\n",
       "      <td>0.000000</td>\n",
       "      <td>0.018519</td>\n",
       "      <td>0.009259</td>\n",
       "      <td>0.009259</td>\n",
       "      <td>0.888889</td>\n",
       "      <td>0.101852</td>\n",
       "      <td>0.009259</td>\n",
       "      <td>0.009259</td>\n",
       "      <td>0.148148</td>\n",
       "      <td>0.074074</td>\n",
       "      <td>0.009259</td>\n",
       "      <td>0.768519</td>\n",
       "    </tr>\n",
       "  </tbody>\n",
       "</table>\n",
       "</div>"
      ],
      "text/plain": [
       "           Edad     Grupo  Hermanos  Genero_Alumno_Femenino  \\\n",
       "Compra                                                        \n",
       "0       9.82854  1.906403  0.552632                0.473684   \n",
       "1       9.64223  1.851756  0.685185                0.287037   \n",
       "\n",
       "        Genero_Alumno_Masculino  Paquete_Alimento  Paquete_Desconocido  \\\n",
       "Compra                                                                   \n",
       "0                      0.526316          0.342105             0.026316   \n",
       "1                      0.712963          0.407407             0.009259   \n",
       "\n",
       "        Paquete_Normal  Genero_Tutor_Desconocido  Genero_Tutor_Femenino  \\\n",
       "Compra                                                                    \n",
       "0             0.631579                  0.815789               0.131579   \n",
       "1             0.583333                  0.138889               0.592593   \n",
       "\n",
       "        Genero_Tutor_Masculino  Municipio_Aguascalientes  \\\n",
       "Compra                                                     \n",
       "0                     0.052632                  0.052632   \n",
       "1                     0.268519                  0.138889   \n",
       "\n",
       "        Municipio_Desconocido  Municipio_Jesus María  Municipio_Morelia  \\\n",
       "Compra                                                                    \n",
       "0                    0.921053               0.026316           0.000000   \n",
       "1                    0.824074               0.000000           0.018519   \n",
       "\n",
       "        Municipio_San_Pedro_Garza_García  Municipio_jesus María  \\\n",
       "Compra                                                            \n",
       "0                               0.000000               0.000000   \n",
       "1                               0.009259               0.009259   \n",
       "\n",
       "        Escuela_Desconocido  Escuela_Entorno  Escuela_Nuevos Horizontes  \\\n",
       "Compra                                                                    \n",
       "0                  1.000000         0.000000                   0.000000   \n",
       "1                  0.888889         0.101852                   0.009259   \n",
       "\n",
       "        Escuela_Nuevos Horizontes  Semanas_1.0  Semanas_2.0  \\\n",
       "Compra                                                        \n",
       "0                        0.000000     0.342105     0.105263   \n",
       "1                        0.009259     0.148148     0.074074   \n",
       "\n",
       "        Semanas_2.5138888888888893  Semanas_3.0  \n",
       "Compra                                           \n",
       "0                         0.026316     0.526316  \n",
       "1                         0.009259     0.768519  "
      ]
     },
     "execution_count": 12,
     "metadata": {},
     "output_type": "execute_result"
    }
   ],
   "source": [
    "data.groupby(\"Compra\").mean()"
   ]
  },
  {
   "cell_type": "code",
   "execution_count": 13,
   "metadata": {},
   "outputs": [
    {
     "data": {
      "text/plain": [
       "Text(0, 0.5, 'Proportion of clients')"
      ]
     },
     "execution_count": 13,
     "metadata": {},
     "output_type": "execute_result"
    },
    {
     "data": {
      "image/png": "[encoded data removed]",
      "text/plain": [
       "<Figure size 432x288 with 1 Axes>"
      ]
     },
     "metadata": {
      "needs_background": "light"
     },
     "output_type": "display_data"
    }
   ],
   "source": [
    "%matplotlib inline\n",
    "table=pd.crosstab(data.Edad, data.Compra)\n",
    "table.div(table.sum(1).astype(float), axis=0).plot(kind=\"bar\", stacked=True)\n",
    "plt.title(\"Diagram of age and sales\")\n",
    "plt.xlabel(\"Age\")\n",
    "plt.ylabel(\"Proportion of clients\")"
   ]
  },
  {
   "cell_type": "code",
   "execution_count": 14,
   "metadata": {},
   "outputs": [
    {
     "data": {
      "text/plain": [
       "Text(0, 0.5, 'Frequency of the purchase')"
      ]
     },
     "execution_count": 14,
     "metadata": {},
     "output_type": "execute_result"
    },
    {
     "data": {
      "image/png": "[encoded data removed]",
      "text/plain": [
       "<Figure size 432x288 with 1 Axes>"
      ]
     },
     "metadata": {
      "needs_background": "light"
     },
     "output_type": "display_data"
    }
   ],
   "source": [
    "%matplotlib inline\n",
    "table.plot(kind=\"bar\", stacked=False)\n",
    "plt.title(\"Frequency of sales for different ages\")\n",
    "plt.xlabel(\"Age\")\n",
    "plt.ylabel(\"Frequency of the purchase\")"
   ]
  },
  {
   "cell_type": "code",
   "execution_count": 15,
   "metadata": {},
   "outputs": [
    {
     "data": {
      "text/plain": [
       "Text(0, 0.5, 'Proportion of clients')"
      ]
     },
     "execution_count": 15,
     "metadata": {},
     "output_type": "execute_result"
    },
    {
     "data": {
      "image/png": "[encoded data removed]",
      "text/plain": [
       "<Figure size 432x288 with 1 Axes>"
      ]
     },
     "metadata": {
      "needs_background": "light"
     },
     "output_type": "display_data"
    }
   ],
   "source": [
    "table=pd.crosstab(data.Genero_Alumno_Femenino, data.Compra)\n",
    "table.div(table.sum(1).astype(float), axis=0).plot(kind=\"bar\", stacked=True)\n",
    "plt.title(\"Diagram of women and sales\")\n",
    "plt.xlabel(\"Women\")\n",
    "plt.ylabel(\"Proportion of clients\")"
   ]
  },
  {
   "cell_type": "code",
   "execution_count": 16,
   "metadata": {},
   "outputs": [
    {
     "data": {
      "text/plain": [
       "Text(0, 0.5, 'Proportion of clients')"
      ]
     },
     "execution_count": 16,
     "metadata": {},
     "output_type": "execute_result"
    },
    {
     "data": {
      "image/png": "[encoded data removed]",
      "text/plain": [
       "<Figure size 432x288 with 1 Axes>"
      ]
     },
     "metadata": {
      "needs_background": "light"
     },
     "output_type": "display_data"
    }
   ],
   "source": [
    "table=pd.crosstab(data.Genero_Alumno_Masculino, data.Compra)\n",
    "table.div(table.sum(1).astype(float), axis=0).plot(kind=\"bar\", stacked=True)\n",
    "plt.title(\"Diagram of men and sales\")\n",
    "plt.xlabel(\"Men\")\n",
    "plt.ylabel(\"Proportion of clients\")"
   ]
  },
  {
   "cell_type": "code",
   "execution_count": 17,
   "metadata": {},
   "outputs": [
    {
     "data": {
      "text/plain": [
       "Text(0, 0.5, 'Frequency of the purchase')"
      ]
     },
     "execution_count": 17,
     "metadata": {},
     "output_type": "execute_result"
    },
    {
     "data": {
      "image/png": "[encoded data removed]",
      "text/plain": [
       "<Figure size 432x288 with 1 Axes>"
      ]
     },
     "metadata": {
      "needs_background": "light"
     },
     "output_type": "display_data"
    }
   ],
   "source": [
    "%matplotlib inline\n",
    "table.plot(kind=\"bar\", stacked=False)\n",
    "plt.title(\"Frequency of sales for plan of weeks\")\n",
    "plt.xlabel(\"Weeks\")\n",
    "plt.ylabel(\"Frequency of the purchase\")"
   ]
  },
  {
   "cell_type": "code",
   "execution_count": 18,
   "metadata": {},
   "outputs": [
    {
     "data": {
      "text/plain": [
       "Text(0, 0.5, 'Client')"
      ]
     },
     "execution_count": 18,
     "metadata": {},
     "output_type": "execute_result"
    },
    {
     "data": {
      "image/png": "[encoded data removed]",
      "text/plain": [
       "<Figure size 432x288 with 1 Axes>"
      ]
     },
     "metadata": {
      "needs_background": "light"
     },
     "output_type": "display_data"
    }
   ],
   "source": [
    "data.Edad.hist()\n",
    "plt.title(\"Histogram of Ages\")\n",
    "plt.xlabel(\"Age\")\n",
    "plt.ylabel(\"Client\")"
   ]
  },
  {
   "cell_type": "code",
   "execution_count": 19,
   "metadata": {},
   "outputs": [],
   "source": [
    "data_vars = data.columns.values.tolist()"
   ]
  },
  {
   "cell_type": "code",
   "execution_count": 20,
   "metadata": {},
   "outputs": [],
   "source": [
    "data_vars = data.columns.values.tolist()\n",
    "Y = ['Compra']\n",
    "X = [v for v in data_vars if v not in Y] "
   ]
  },
  {
   "cell_type": "code",
   "execution_count": 21,
   "metadata": {},
   "outputs": [
    {
     "data": {
      "text/plain": [
       "['Edad',\n",
       " 'Grupo',\n",
       " 'Hermanos',\n",
       " 'Genero_Alumno_Femenino',\n",
       " 'Genero_Alumno_Masculino',\n",
       " 'Paquete_Alimento',\n",
       " 'Paquete_Desconocido',\n",
       " 'Paquete_Normal',\n",
       " 'Genero_Tutor_Desconocido',\n",
       " 'Genero_Tutor_Femenino',\n",
       " 'Genero_Tutor_Masculino',\n",
       " 'Municipio_Aguascalientes',\n",
       " 'Municipio_Desconocido',\n",
       " 'Municipio_Jesus María',\n",
       " 'Municipio_Morelia',\n",
       " 'Municipio_San_Pedro_Garza_García',\n",
       " 'Municipio_jesus María',\n",
       " 'Escuela_Desconocido',\n",
       " 'Escuela_Entorno',\n",
       " 'Escuela_Nuevos Horizontes',\n",
       " 'Escuela_Nuevos Horizontes',\n",
       " 'Semanas_1.0',\n",
       " 'Semanas_2.0',\n",
       " 'Semanas_2.5138888888888893',\n",
       " 'Semanas_3.0']"
      ]
     },
     "execution_count": 21,
     "metadata": {},
     "output_type": "execute_result"
    }
   ],
   "source": [
    "X"
   ]
  },
  {
   "cell_type": "code",
   "execution_count": 22,
   "metadata": {},
   "outputs": [
    {
     "data": {
      "text/plain": [
       "array(['Edad', 'Grupo', 'Hermanos', 'Genero_Alumno_Femenino',\n",
       "       'Genero_Alumno_Masculino', 'Paquete_Alimento',\n",
       "       'Paquete_Desconocido', 'Paquete_Normal',\n",
       "       'Genero_Tutor_Desconocido', 'Genero_Tutor_Femenino',\n",
       "       'Genero_Tutor_Masculino', 'Municipio_Aguascalientes',\n",
       "       'Municipio_Desconocido', 'Municipio_Jesus María',\n",
       "       'Municipio_Morelia', 'Municipio_San_Pedro_Garza_García',\n",
       "       'Municipio_jesus María', 'Escuela_Desconocido', 'Escuela_Entorno',\n",
       "       'Escuela_Nuevos Horizontes', 'Escuela_Nuevos Horizontes',\n",
       "       'Escuela_Nuevos Horizontes', 'Escuela_Nuevos Horizontes',\n",
       "       'Semanas_1.0', 'Semanas_2.0', 'Semanas_2.5138888888888893',\n",
       "       'Semanas_3.0'], dtype=object)"
      ]
     },
     "execution_count": 22,
     "metadata": {},
     "output_type": "execute_result"
    }
   ],
   "source": [
    "data[X].columns.values"
   ]
  },
  {
   "cell_type": "markdown",
   "metadata": {},
   "source": [
    "## Using linear regression to get the ranking"
   ]
  },
  {
   "cell_type": "code",
   "execution_count": 23,
   "metadata": {},
   "outputs": [],
   "source": [
    "n = 10"
   ]
  },
  {
   "cell_type": "code",
   "execution_count": 24,
   "metadata": {},
   "outputs": [],
   "source": [
    "from sklearn import datasets\n",
    "from sklearn.feature_selection import RFE\n",
    "from sklearn.linear_model import LogisticRegression"
   ]
  },
  {
   "cell_type": "code",
   "execution_count": 25,
   "metadata": {},
   "outputs": [],
   "source": [
    "lr = LogisticRegression(solver='lbfgs')"
   ]
  },
  {
   "cell_type": "code",
   "execution_count": 26,
   "metadata": {},
   "outputs": [],
   "source": [
    "rfe = RFE(lr, n)\n",
    "rfe = rfe.fit(data[X], data[Y].values.ravel())"
   ]
  },
  {
   "cell_type": "code",
   "execution_count": 27,
   "metadata": {},
   "outputs": [
    {
     "name": "stdout",
     "output_type": "stream",
     "text": [
      "[False False False False False  True False False  True  True  True False\n",
      "  True  True False False False  True  True False False False False  True\n",
      " False False  True]\n"
     ]
    }
   ],
   "source": [
    "print(rfe.support_)"
   ]
  },
  {
   "cell_type": "code",
   "execution_count": 28,
   "metadata": {},
   "outputs": [],
   "source": [
    "z=zip(data_vars,rfe.support_, rfe.ranking_)"
   ]
  },
  {
   "cell_type": "code",
   "execution_count": 29,
   "metadata": {},
   "outputs": [
    {
     "data": {
      "text/plain": [
       "[('Edad', False, 5),\n",
       " ('Grupo', False, 17),\n",
       " ('Hermanos', False, 10),\n",
       " ('Compra', False, 3),\n",
       " ('Genero_Alumno_Femenino', False, 7),\n",
       " ('Genero_Alumno_Masculino', True, 1),\n",
       " ('Paquete_Alimento', False, 6),\n",
       " ('Paquete_Desconocido', False, 15),\n",
       " ('Paquete_Normal', True, 1),\n",
       " ('Genero_Tutor_Desconocido', True, 1),\n",
       " ('Genero_Tutor_Femenino', True, 1),\n",
       " ('Genero_Tutor_Masculino', False, 16),\n",
       " ('Municipio_Aguascalientes', True, 1),\n",
       " ('Municipio_Desconocido', True, 1),\n",
       " ('Municipio_Jesus María', False, 8),\n",
       " ('Municipio_Morelia', False, 9),\n",
       " ('Municipio_San_Pedro_Garza_García', False, 18),\n",
       " ('Municipio_jesus María', True, 1),\n",
       " ('Escuela_Desconocido', True, 1),\n",
       " ('Escuela_Entorno', False, 11),\n",
       " ('Escuela_Nuevos Horizontes', False, 12),\n",
       " ('Escuela_Nuevos Horizontes', False, 13),\n",
       " ('Semanas_1.0', False, 14),\n",
       " ('Semanas_2.0', True, 1),\n",
       " ('Semanas_2.5138888888888893', False, 2),\n",
       " ('Semanas_3.0', False, 4)]"
      ]
     },
     "execution_count": 29,
     "metadata": {},
     "output_type": "execute_result"
    }
   ],
   "source": [
    "list(z)"
   ]
  },
  {
   "cell_type": "code",
   "execution_count": 30,
   "metadata": {},
   "outputs": [],
   "source": [
    "cols = [\"Genero_Alumno_Masculino\", \"Paquete_Normal\", \"Genero_Tutor_Desconocido\", \"Genero_Tutor_Femenino\",\n",
    "       \"Municipio_Desconocido\", \"Municipio_jesus María\", \"Escuela_Desconocido\", \n",
    "        \"Semanas_2.0\"]"
   ]
  },
  {
   "cell_type": "code",
   "execution_count": 31,
   "metadata": {},
   "outputs": [],
   "source": [
    "X = data[cols]+0.00001*np.random.rand(146, 8) #add noise so there is not a singular matrix\n",
    "Y = data[\"Compra\"]"
   ]
  },
  {
   "cell_type": "markdown",
   "metadata": {},
   "source": [
    "## Using stats model "
   ]
  },
  {
   "cell_type": "code",
   "execution_count": 32,
   "metadata": {},
   "outputs": [],
   "source": [
    "import statsmodels.api as sm"
   ]
  },
  {
   "cell_type": "code",
   "execution_count": 33,
   "metadata": {},
   "outputs": [],
   "source": [
    "logit_model = sm.Logit(Y, X)"
   ]
  },
  {
   "cell_type": "code",
   "execution_count": 34,
   "metadata": {},
   "outputs": [
    {
     "name": "stdout",
     "output_type": "stream",
     "text": [
      "Optimization terminated successfully.\n",
      "         Current function value: 0.369063\n",
      "         Iterations 16\n"
     ]
    }
   ],
   "source": [
    "result = logit_model.fit()"
   ]
  },
  {
   "cell_type": "code",
   "execution_count": 35,
   "metadata": {},
   "outputs": [
    {
     "data": {
      "text/html": [
       "<table class=\"simpletable\">\n",
       "<tr>\n",
       "        <td>Model:</td>              <td>Logit</td>      <td>Pseudo R-squared:</td>    <td>0.356</td>  \n",
       "</tr>\n",
       "<tr>\n",
       "  <td>Dependent Variable:</td>      <td>Compra</td>            <td>AIC:</td>         <td>123.7664</td> \n",
       "</tr>\n",
       "<tr>\n",
       "         <td>Date:</td>        <td>2019-05-01 19:47</td>       <td>BIC:</td>         <td>147.6352</td> \n",
       "</tr>\n",
       "<tr>\n",
       "   <td>No. Observations:</td>         <td>146</td>        <td>Log-Likelihood:</td>    <td>-53.883</td> \n",
       "</tr>\n",
       "<tr>\n",
       "       <td>Df Model:</td>              <td>7</td>            <td>LL-Null:</td>        <td>-83.708</td> \n",
       "</tr>\n",
       "<tr>\n",
       "     <td>Df Residuals:</td>           <td>138</td>         <td>LLR p-value:</td>    <td>1.7731e-10</td>\n",
       "</tr>\n",
       "<tr>\n",
       "      <td>Converged:</td>           <td>1.0000</td>           <td>Scale:</td>         <td>1.0000</td>  \n",
       "</tr>\n",
       "<tr>\n",
       "    <td>No. Iterations:</td>        <td>16.0000</td>             <td></td>               <td></td>     \n",
       "</tr>\n",
       "</table>\n",
       "<table class=\"simpletable\">\n",
       "<tr>\n",
       "              <td></td>              <th>Coef.</th>  <th>Std.Err.</th>    <th>z</th>     <th>P>|z|</th>  <th>[0.025</th>    <th>0.975]</th> \n",
       "</tr>\n",
       "<tr>\n",
       "  <th>Genero_Alumno_Masculino</th>  <td>0.5920</td>   <td>0.4796</td>  <td>1.2342</td>  <td>0.2171</td>  <td>-0.3481</td>   <td>1.5320</td> \n",
       "</tr>\n",
       "<tr>\n",
       "  <th>Paquete_Normal</th>           <td>0.2910</td>   <td>0.4858</td>  <td>0.5989</td>  <td>0.5492</td>  <td>-0.6612</td>   <td>1.2431</td> \n",
       "</tr>\n",
       "<tr>\n",
       "  <th>Genero_Tutor_Desconocido</th> <td>-3.3142</td>  <td>0.8194</td>  <td>-4.0448</td> <td>0.0001</td>  <td>-4.9202</td>   <td>-1.7083</td>\n",
       "</tr>\n",
       "<tr>\n",
       "  <th>Genero_Tutor_Femenino</th>    <td>0.6377</td>   <td>0.7787</td>  <td>0.8190</td>  <td>0.4128</td>  <td>-0.8884</td>   <td>2.1639</td> \n",
       "</tr>\n",
       "<tr>\n",
       "  <th>Municipio_Desconocido</th>    <td>1.6704</td>   <td>0.6722</td>  <td>2.4852</td>  <td>0.0129</td>  <td>0.3530</td>    <td>2.9878</td> \n",
       "</tr>\n",
       "<tr>\n",
       "  <th>Municipio_jesus María</th>    <td>10.8413</td> <td>351.4753</td> <td>0.0308</td>  <td>0.9754</td> <td>-678.0375</td> <td>699.7202</td>\n",
       "</tr>\n",
       "<tr>\n",
       "  <th>Escuela_Desconocido</th>      <td>0.4424</td>   <td>0.8399</td>  <td>0.5268</td>  <td>0.5984</td>  <td>-1.2038</td>   <td>2.0886</td> \n",
       "</tr>\n",
       "<tr>\n",
       "  <th>Semanas_2.0</th>              <td>-0.7276</td>  <td>0.8956</td>  <td>-0.8124</td> <td>0.4166</td>  <td>-2.4829</td>   <td>1.0277</td> \n",
       "</tr>\n",
       "</table>"
      ],
      "text/plain": [
       "<class 'statsmodels.iolib.summary2.Summary'>\n",
       "\"\"\"\n",
       "                              Results: Logit\n",
       "===========================================================================\n",
       "Model:                  Logit               Pseudo R-squared:    0.356     \n",
       "Dependent Variable:     Compra              AIC:                 123.7664  \n",
       "Date:                   2019-05-01 19:47    BIC:                 147.6352  \n",
       "No. Observations:       146                 Log-Likelihood:      -53.883   \n",
       "Df Model:               7                   LL-Null:             -83.708   \n",
       "Df Residuals:           138                 LLR p-value:         1.7731e-10\n",
       "Converged:              1.0000              Scale:               1.0000    \n",
       "No. Iterations:         16.0000                                            \n",
       "---------------------------------------------------------------------------\n",
       "                          Coef.  Std.Err.    z    P>|z|    [0.025   0.975] \n",
       "---------------------------------------------------------------------------\n",
       "Genero_Alumno_Masculino   0.5920   0.4796  1.2342 0.2171   -0.3481   1.5320\n",
       "Paquete_Normal            0.2910   0.4858  0.5989 0.5492   -0.6612   1.2431\n",
       "Genero_Tutor_Desconocido -3.3142   0.8194 -4.0448 0.0001   -4.9202  -1.7083\n",
       "Genero_Tutor_Femenino     0.6377   0.7787  0.8190 0.4128   -0.8884   2.1639\n",
       "Municipio_Desconocido     1.6704   0.6722  2.4852 0.0129    0.3530   2.9878\n",
       "Municipio_jesus María    10.8413 351.4753  0.0308 0.9754 -678.0375 699.7202\n",
       "Escuela_Desconocido       0.4424   0.8399  0.5268 0.5984   -1.2038   2.0886\n",
       "Semanas_2.0              -0.7276   0.8956 -0.8124 0.4166   -2.4829   1.0277\n",
       "===========================================================================\n",
       "\n",
       "\"\"\""
      ]
     },
     "execution_count": 35,
     "metadata": {},
     "output_type": "execute_result"
    }
   ],
   "source": [
    "result.summary2()"
   ]
  },
  {
   "cell_type": "code",
   "execution_count": 36,
   "metadata": {},
   "outputs": [],
   "source": [
    "from sklearn import linear_model"
   ]
  },
  {
   "cell_type": "code",
   "execution_count": 37,
   "metadata": {},
   "outputs": [
    {
     "data": {
      "text/plain": [
       "LogisticRegression(C=1.0, class_weight=None, dual=False, fit_intercept=True,\n",
       "          intercept_scaling=1, max_iter=100, multi_class='warn',\n",
       "          n_jobs=None, penalty='l2', random_state=None, solver='lbfgs',\n",
       "          tol=0.0001, verbose=0, warm_start=False)"
      ]
     },
     "execution_count": 37,
     "metadata": {},
     "output_type": "execute_result"
    }
   ],
   "source": [
    "logit_model = linear_model.LogisticRegression(solver = \"lbfgs\")\n",
    "logit_model.fit(X,Y)"
   ]
  },
  {
   "cell_type": "code",
   "execution_count": 38,
   "metadata": {},
   "outputs": [
    {
     "data": {
      "text/plain": [
       "0.8493150684931506"
      ]
     },
     "execution_count": 38,
     "metadata": {},
     "output_type": "execute_result"
    }
   ],
   "source": [
    "logit_model.score(X,Y)"
   ]
  },
  {
   "cell_type": "code",
   "execution_count": 39,
   "metadata": {},
   "outputs": [
    {
     "data": {
      "text/plain": [
       "0.26027397260273977"
      ]
     },
     "execution_count": 39,
     "metadata": {},
     "output_type": "execute_result"
    }
   ],
   "source": [
    "1-Y.mean()"
   ]
  },
  {
   "cell_type": "code",
   "execution_count": 40,
   "metadata": {},
   "outputs": [
    {
     "data": {
      "text/html": [
       "<div>\n",
       "<style scoped>\n",
       "    .dataframe tbody tr th:only-of-type {\n",
       "        vertical-align: middle;\n",
       "    }\n",
       "\n",
       "    .dataframe tbody tr th {\n",
       "        vertical-align: top;\n",
       "    }\n",
       "\n",
       "    .dataframe thead th {\n",
       "        text-align: right;\n",
       "    }\n",
       "</style>\n",
       "<table border=\"1\" class=\"dataframe\">\n",
       "  <thead>\n",
       "    <tr style=\"text-align: right;\">\n",
       "      <th></th>\n",
       "      <th>0</th>\n",
       "      <th>1</th>\n",
       "    </tr>\n",
       "  </thead>\n",
       "  <tbody>\n",
       "    <tr>\n",
       "      <th>0</th>\n",
       "      <td>Genero_Alumno_Masculino</td>\n",
       "      <td>[0.33545010464817676]</td>\n",
       "    </tr>\n",
       "    <tr>\n",
       "      <th>1</th>\n",
       "      <td>Paquete_Normal</td>\n",
       "      <td>[-0.023689731932405245]</td>\n",
       "    </tr>\n",
       "    <tr>\n",
       "      <th>2</th>\n",
       "      <td>Genero_Tutor_Desconocido</td>\n",
       "      <td>[-2.339053499327886]</td>\n",
       "    </tr>\n",
       "    <tr>\n",
       "      <th>3</th>\n",
       "      <td>Genero_Tutor_Femenino</td>\n",
       "      <td>[0.6303432110079238]</td>\n",
       "    </tr>\n",
       "    <tr>\n",
       "      <th>4</th>\n",
       "      <td>Municipio_Desconocido</td>\n",
       "      <td>[0.355098746802456]</td>\n",
       "    </tr>\n",
       "    <tr>\n",
       "      <th>5</th>\n",
       "      <td>Municipio_jesus María</td>\n",
       "      <td>[0.07760470323176678]</td>\n",
       "    </tr>\n",
       "    <tr>\n",
       "      <th>6</th>\n",
       "      <td>Escuela_Desconocido</td>\n",
       "      <td>[-0.7414192340343823]</td>\n",
       "    </tr>\n",
       "    <tr>\n",
       "      <th>7</th>\n",
       "      <td>Semanas_2.0</td>\n",
       "      <td>[-0.4690298460419286]</td>\n",
       "    </tr>\n",
       "  </tbody>\n",
       "</table>\n",
       "</div>"
      ],
      "text/plain": [
       "                          0                        1\n",
       "0   Genero_Alumno_Masculino    [0.33545010464817676]\n",
       "1            Paquete_Normal  [-0.023689731932405245]\n",
       "2  Genero_Tutor_Desconocido     [-2.339053499327886]\n",
       "3     Genero_Tutor_Femenino     [0.6303432110079238]\n",
       "4     Municipio_Desconocido      [0.355098746802456]\n",
       "5     Municipio_jesus María    [0.07760470323176678]\n",
       "6       Escuela_Desconocido    [-0.7414192340343823]\n",
       "7               Semanas_2.0    [-0.4690298460419286]"
      ]
     },
     "execution_count": 40,
     "metadata": {},
     "output_type": "execute_result"
    }
   ],
   "source": [
    "pd.DataFrame(list(zip(X.columns, np.transpose(logit_model.coef_))))"
   ]
  },
  {
   "cell_type": "markdown",
   "metadata": {},
   "source": [
    "## Curva ROC"
   ]
  },
  {
   "cell_type": "code",
   "execution_count": 41,
   "metadata": {},
   "outputs": [],
   "source": [
    "from sklearn.model_selection import train_test_split"
   ]
  },
  {
   "cell_type": "code",
   "execution_count": 42,
   "metadata": {},
   "outputs": [],
   "source": [
    "X_train, X_test, Y_train, Y_test = train_test_split(X,Y,test_size=0.3, random_state=0)"
   ]
  },
  {
   "cell_type": "code",
   "execution_count": 43,
   "metadata": {},
   "outputs": [
    {
     "data": {
      "text/plain": [
       "LogisticRegression(C=1.0, class_weight=None, dual=False, fit_intercept=True,\n",
       "          intercept_scaling=1, max_iter=100, multi_class='warn',\n",
       "          n_jobs=None, penalty='l2', random_state=None, solver='lbfgs',\n",
       "          tol=0.0001, verbose=0, warm_start=False)"
      ]
     },
     "execution_count": 43,
     "metadata": {},
     "output_type": "execute_result"
    }
   ],
   "source": [
    "lm = linear_model.LogisticRegression(solver = \"lbfgs\")\n",
    "lm.fit(X_train, Y_train)"
   ]
  },
  {
   "cell_type": "code",
   "execution_count": 44,
   "metadata": {},
   "outputs": [],
   "source": [
    "probs = lm.predict_proba(X_test)"
   ]
  },
  {
   "cell_type": "code",
   "execution_count": 45,
   "metadata": {},
   "outputs": [
    {
     "data": {
      "text/html": [
       "<div>\n",
       "<style scoped>\n",
       "    .dataframe tbody tr th:only-of-type {\n",
       "        vertical-align: middle;\n",
       "    }\n",
       "\n",
       "    .dataframe tbody tr th {\n",
       "        vertical-align: top;\n",
       "    }\n",
       "\n",
       "    .dataframe thead th {\n",
       "        text-align: right;\n",
       "    }\n",
       "</style>\n",
       "<table border=\"1\" class=\"dataframe\">\n",
       "  <thead>\n",
       "    <tr style=\"text-align: right;\">\n",
       "      <th></th>\n",
       "      <th>0</th>\n",
       "      <th>prediction</th>\n",
       "      <th>actual</th>\n",
       "    </tr>\n",
       "  </thead>\n",
       "  <tbody>\n",
       "    <tr>\n",
       "      <th>0</th>\n",
       "      <td>0.893606</td>\n",
       "      <td>1</td>\n",
       "      <td>1</td>\n",
       "    </tr>\n",
       "    <tr>\n",
       "      <th>1</th>\n",
       "      <td>0.851938</td>\n",
       "      <td>1</td>\n",
       "      <td>1</td>\n",
       "    </tr>\n",
       "    <tr>\n",
       "      <th>2</th>\n",
       "      <td>0.920167</td>\n",
       "      <td>1</td>\n",
       "      <td>1</td>\n",
       "    </tr>\n",
       "    <tr>\n",
       "      <th>3</th>\n",
       "      <td>0.843779</td>\n",
       "      <td>1</td>\n",
       "      <td>1</td>\n",
       "    </tr>\n",
       "    <tr>\n",
       "      <th>4</th>\n",
       "      <td>0.415222</td>\n",
       "      <td>0</td>\n",
       "      <td>0</td>\n",
       "    </tr>\n",
       "  </tbody>\n",
       "</table>\n",
       "</div>"
      ],
      "text/plain": [
       "          0  prediction  actual\n",
       "0  0.893606           1       1\n",
       "1  0.851938           1       1\n",
       "2  0.920167           1       1\n",
       "3  0.843779           1       1\n",
       "4  0.415222           0       0"
      ]
     },
     "execution_count": 45,
     "metadata": {},
     "output_type": "execute_result"
    }
   ],
   "source": [
    "prob=probs[:,1]\n",
    "prob_df = pd.DataFrame(prob)\n",
    "threshold = 0.5\n",
    "prob_df[\"prediction\"] = np.where(prob_df[0]>=threshold, 1, 0)\n",
    "prob_df[\"actual\"] = list(Y_test)\n",
    "prob_df.head()"
   ]
  },
  {
   "cell_type": "code",
   "execution_count": 46,
   "metadata": {},
   "outputs": [
    {
     "data": {
      "text/html": [
       "<div>\n",
       "<style scoped>\n",
       "    .dataframe tbody tr th:only-of-type {\n",
       "        vertical-align: middle;\n",
       "    }\n",
       "\n",
       "    .dataframe tbody tr th {\n",
       "        vertical-align: top;\n",
       "    }\n",
       "\n",
       "    .dataframe thead th {\n",
       "        text-align: right;\n",
       "    }\n",
       "</style>\n",
       "<table border=\"1\" class=\"dataframe\">\n",
       "  <thead>\n",
       "    <tr style=\"text-align: right;\">\n",
       "      <th>actual</th>\n",
       "      <th>0</th>\n",
       "      <th>1</th>\n",
       "    </tr>\n",
       "    <tr>\n",
       "      <th>prediction</th>\n",
       "      <th></th>\n",
       "      <th></th>\n",
       "    </tr>\n",
       "  </thead>\n",
       "  <tbody>\n",
       "    <tr>\n",
       "      <th>0</th>\n",
       "      <td>8</td>\n",
       "      <td>1</td>\n",
       "    </tr>\n",
       "    <tr>\n",
       "      <th>1</th>\n",
       "      <td>1</td>\n",
       "      <td>34</td>\n",
       "    </tr>\n",
       "  </tbody>\n",
       "</table>\n",
       "</div>"
      ],
      "text/plain": [
       "actual      0   1\n",
       "prediction       \n",
       "0           8   1\n",
       "1           1  34"
      ]
     },
     "execution_count": 46,
     "metadata": {},
     "output_type": "execute_result"
    }
   ],
   "source": [
    "confusion_matrix = pd.crosstab(prob_df.prediction, prob_df.actual)\n",
    "confusion_matrix"
   ]
  },
  {
   "cell_type": "code",
   "execution_count": 47,
   "metadata": {},
   "outputs": [],
   "source": [
    "TN=confusion_matrix[0][0]\n",
    "TP=confusion_matrix[1][1]\n",
    "FN=confusion_matrix[0][1]\n",
    "FP=confusion_matrix[1][0]"
   ]
  },
  {
   "cell_type": "code",
   "execution_count": 48,
   "metadata": {},
   "outputs": [
    {
     "data": {
      "text/plain": [
       "8"
      ]
     },
     "execution_count": 48,
     "metadata": {},
     "output_type": "execute_result"
    }
   ],
   "source": [
    "TN"
   ]
  },
  {
   "cell_type": "code",
   "execution_count": 49,
   "metadata": {},
   "outputs": [
    {
     "data": {
      "text/plain": [
       "34"
      ]
     },
     "execution_count": 49,
     "metadata": {},
     "output_type": "execute_result"
    }
   ],
   "source": [
    "TP"
   ]
  },
  {
   "cell_type": "code",
   "execution_count": 50,
   "metadata": {},
   "outputs": [
    {
     "data": {
      "text/plain": [
       "1"
      ]
     },
     "execution_count": 50,
     "metadata": {},
     "output_type": "execute_result"
    }
   ],
   "source": [
    "FN"
   ]
  },
  {
   "cell_type": "code",
   "execution_count": 51,
   "metadata": {},
   "outputs": [
    {
     "data": {
      "text/plain": [
       "1"
      ]
     },
     "execution_count": 51,
     "metadata": {},
     "output_type": "execute_result"
    }
   ],
   "source": [
    "FP"
   ]
  },
  {
   "cell_type": "code",
   "execution_count": 52,
   "metadata": {},
   "outputs": [
    {
     "data": {
      "text/plain": [
       "0.9714285714285714"
      ]
     },
     "execution_count": 52,
     "metadata": {},
     "output_type": "execute_result"
    }
   ],
   "source": [
    "sens = TP/(TP+FN)\n",
    "sens"
   ]
  },
  {
   "cell_type": "code",
   "execution_count": 53,
   "metadata": {},
   "outputs": [
    {
     "data": {
      "text/plain": [
       "0.11111111111111116"
      ]
     },
     "execution_count": 53,
     "metadata": {},
     "output_type": "execute_result"
    }
   ],
   "source": [
    "espc_1 = 1-TN/(TN+FP)\n",
    "espc_1"
   ]
  },
  {
   "cell_type": "code",
   "execution_count": 54,
   "metadata": {},
   "outputs": [],
   "source": [
    "thresholds = [0.04, 0.05, 0.07, 0.10, 0.12, 0.15, 0.18, 0.20, 0.25, 0.3, 0.4, 0.5]\n",
    "sensitivities = [1]\n",
    "especifities_1 = [1]\n",
    "\n",
    "for t in thresholds:\n",
    "    prob_df[\"prediction\"] = np.where(prob_df[0]>=t, 1, 0)\n",
    "    prob_df[\"actual\"] = list(Y_test)\n",
    "    prob_df.head()\n",
    "\n",
    "    confusion_matrix = pd.crosstab(prob_df.prediction, prob_df.actual)\n",
    "    \n",
    "    sens = TP/(TP+FN)\n",
    "    sensitivities.append(sens)\n",
    "    espc_1 = 1-TN/(TN+FP)\n",
    "    especifities_1.append(espc_1)\n",
    "\n",
    "sensitivities.append(0)\n",
    "especifities_1.append(0)\n",
    "\n",
    "#Inicia desde 1 y termina en 0. Decrece"
   ]
  },
  {
   "cell_type": "code",
   "execution_count": 55,
   "metadata": {},
   "outputs": [],
   "source": [
    "import matplotlib.pyplot as plt"
   ]
  },
  {
   "cell_type": "code",
   "execution_count": 56,
   "metadata": {},
   "outputs": [
    {
     "data": {
      "text/plain": [
       "Text(0.5, 1.0, 'Curva ROC')"
      ]
     },
     "execution_count": 56,
     "metadata": {},
     "output_type": "execute_result"
    },
    {
     "data": {
      "image/png": "[encoded data removed]",
      "text/plain": [
       "<Figure size 432x288 with 1 Axes>"
      ]
     },
     "metadata": {
      "needs_background": "light"
     },
     "output_type": "display_data"
    }
   ],
   "source": [
    "%matplotlib inline\n",
    "plt.plot(especifities_1, sensitivities, marker=\"o\", linestyle=\"--\", color=\"r\")\n",
    "x=[i*0.01 for i in range(100)]\n",
    "y=[i*0.01 for i in range(100)]\n",
    "plt.plot(x,y)\n",
    "plt.xlabel(\"1-Especifidad\")\n",
    "plt.ylabel(\"Sensibilidad\")\n",
    "plt.title(\"Curva ROC\")"
   ]
  },
  {
   "cell_type": "code",
   "execution_count": null,
   "metadata": {},
   "outputs": [],
   "source": []
  }
 ],
 "metadata": {
  "kernelspec": {
   "display_name": "Python 3",
   "language": "python",
   "name": "python3"
  },
  "language_info": {
   "codemirror_mode": {
    "name": "ipython",
    "version": 3
   },
   "file_extension": ".py",
   "mimetype": "text/x-python",
   "name": "python",
   "nbconvert_exporter": "python",
   "pygments_lexer": "ipython3",
   "version": "3.6.8"
  }
 },
 "nbformat": 4,
 "nbformat_minor": 2
}
